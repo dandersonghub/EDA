{
  "nbformat": 4,
  "nbformat_minor": 0,
  "metadata": {
    "colab": {
      "provenance": []
    },
    "kernelspec": {
      "name": "python3",
      "display_name": "Python 3"
    },
    "language_info": {
      "name": "python"
    }
  },
  "cells": [
    {
      "cell_type": "markdown",
      "source": [
        "# Exploratory Data Analysis (EDA) & Linear Regression\n",
        "\n",
        "Project Overview\n",
        "\n",
        "This project demonstrates the process of using EDA to clean a dataset, understand the variables, and analyze the relationships between variables using Simple Linear Regression and Multiple Linear Regression modeling.\n",
        "\n",
        "##What is EDA?\n",
        "\n",
        "EDA is a step in the data analysis process, where several techniques are utilized to better understand the dataset being used.\n",
        "\n",
        "##What is Simple & Multiple Linear Regression?\n",
        "\n",
        "Simple linear regression uses a single feature to model a linear relationship with a target variable. Multiple linear regression uses uses multiple features to model a linear relationship with a target variable.\n",
        "\n",
        "## Objectives\n",
        "\n",
        "*   Explore dataset to determine the main features that have the most impact on systolic blood pressure (BP).\n",
        "*   Create and evaluate a Simple Linear Regression model\n",
        "*   Create and evaluate a Multiple Linear Regression model\n",
        "*   Data source: Population health-related survey dataset \n"
      ],
      "metadata": {
        "id": "RktRG-_-7347"
      }
    },
    {
      "cell_type": "markdown",
      "source": [
        "<h2>Table of Contents</h2>\n",
        "\n",
        "<div class=\"alert alert-block alert-info\" style=\"margin-top: 20px\">\n",
        "<ol>\n",
        "\n",
        "\n",
        "1. [Import Data](#import)\n",
        "2. [Descriptive Statistical Analysis](#dsa)\n",
        "3. [Correlation](#corr)\n",
        "4. [Simple Linear Regression](#slr)\n",
        "5. [Multiple Linear Regression](#mlr)\n",
        "6. [Conclusions](#con)\n",
        "\n",
        "\n",
        "\n",
        "\n",
        "\n",
        "\n",
        "\n",
        "\n"
      ],
      "metadata": {
        "id": "OyHx0iQaoW_P"
      }
    },
    {
      "cell_type": "markdown",
      "metadata": {
        "id": "avdoZl1f6mPP"
      },
      "source": [
        "## Import Data <a name=\"import\"></a>\n"
      ]
    },
    {
      "cell_type": "markdown",
      "metadata": {
        "id": "UJF0GoEF6mPP"
      },
      "source": [
        "Import libraries:\n"
      ]
    },
    {
      "cell_type": "code",
      "source": [
        "# Pandas is a library for data management, manipulation, and analysis \n",
        "# Matplotlib is a library for making visualizations\n",
        "# Seaborn is a higher-level interface to Matplotlib that can be used to simplify graphing\n",
        "# Numpy is a library for working with arrays of data \n",
        "\n",
        "%matplotlib inline \n",
        "import pandas as pd\n",
        "import matplotlib.pyplot as plt\n",
        "import seaborn as sns\n",
        "import numpy as np\n",
        "import statsmodels.api as sm"
      ],
      "metadata": {
        "id": "Y7DlCQdJe03t"
      },
      "execution_count": 1,
      "outputs": []
    },
    {
      "cell_type": "markdown",
      "metadata": {
        "id": "nhUqhNNR6mPQ"
      },
      "source": [
        "Load the data and store it in dataframe `df`:\n"
      ]
    },
    {
      "cell_type": "code",
      "source": [
        "# Read in data and limit dataset to only columns of interest\n",
        "url = \"https://raw.githubusercontent.com/dandersonghub/EDA/main/nhanes.csv\"\n",
        "df = pd.read_csv(url)\n",
        "\n",
        "# Drop all columns except those listed below\n",
        "vars = [\"BPXSY1\", \"RIDAGEYR\", \"RIAGENDR\", \"RIDRETH1\", \"DMDEDUC2\", \"BMXBMI\", \"BMXWT\",\"SMQ020\",]\n",
        "df = df[vars]\n",
        "\n",
        "\n",
        "# Change column names for clarity\n",
        "df.rename(columns={'BPXSY1':'BP', 'RIDAGEYR': 'AGE', 'RIAGENDR':'GENDER','RIDRETH1': 'RACE', \n",
        "                   'DMDEDUC2':'EDUCATION', 'BMXBMI': 'BMI', 'BMXWT':'WEIGHT', 'SMQ020': 'CIGSMK'}, inplace=True)\n",
        "\n",
        "df[\"CIGSMK\"] = df.CIGSMK.replace({2: 0, 7: 0, 9: 0})\n",
        "\n",
        "df"
      ],
      "metadata": {
        "id": "Tgz36SsD_kmL",
        "colab": {
          "base_uri": "https://localhost:8080/",
          "height": 424
        },
        "outputId": "6e8a0b77-9026-4442-d08b-5386f1f228dc"
      },
      "execution_count": 2,
      "outputs": [
        {
          "output_type": "execute_result",
          "data": {
            "text/plain": [
              "         BP  AGE  GENDER  RACE  EDUCATION   BMI  WEIGHT  CIGSMK\n",
              "0     128.0   62       1     3        5.0  27.8    94.8       1\n",
              "1     146.0   53       1     3        3.0  30.8    90.4       1\n",
              "2     138.0   78       1     3        3.0  28.8    83.4       1\n",
              "3     132.0   56       2     3        5.0  42.4   109.8       0\n",
              "4     100.0   42       2     4        4.0  20.3    55.2       0\n",
              "...     ...  ...     ...   ...        ...   ...     ...     ...\n",
              "5730  112.0   76       2     3        3.0  21.5    59.1       1\n",
              "5731  118.0   26       1     3        5.0  33.8   112.1       0\n",
              "5732  154.0   80       2     3        4.0  31.0    71.7       1\n",
              "5733  104.0   35       1     3        1.0  26.0    78.2       1\n",
              "5734  118.0   24       2     3        5.0  21.4    58.3       0\n",
              "\n",
              "[5735 rows x 8 columns]"
            ],
            "text/html": [
              "\n",
              "  <div id=\"df-ff7017d9-4958-4f0e-8b6e-6259afa007a2\">\n",
              "    <div class=\"colab-df-container\">\n",
              "      <div>\n",
              "<style scoped>\n",
              "    .dataframe tbody tr th:only-of-type {\n",
              "        vertical-align: middle;\n",
              "    }\n",
              "\n",
              "    .dataframe tbody tr th {\n",
              "        vertical-align: top;\n",
              "    }\n",
              "\n",
              "    .dataframe thead th {\n",
              "        text-align: right;\n",
              "    }\n",
              "</style>\n",
              "<table border=\"1\" class=\"dataframe\">\n",
              "  <thead>\n",
              "    <tr style=\"text-align: right;\">\n",
              "      <th></th>\n",
              "      <th>BP</th>\n",
              "      <th>AGE</th>\n",
              "      <th>GENDER</th>\n",
              "      <th>RACE</th>\n",
              "      <th>EDUCATION</th>\n",
              "      <th>BMI</th>\n",
              "      <th>WEIGHT</th>\n",
              "      <th>CIGSMK</th>\n",
              "    </tr>\n",
              "  </thead>\n",
              "  <tbody>\n",
              "    <tr>\n",
              "      <th>0</th>\n",
              "      <td>128.0</td>\n",
              "      <td>62</td>\n",
              "      <td>1</td>\n",
              "      <td>3</td>\n",
              "      <td>5.0</td>\n",
              "      <td>27.8</td>\n",
              "      <td>94.8</td>\n",
              "      <td>1</td>\n",
              "    </tr>\n",
              "    <tr>\n",
              "      <th>1</th>\n",
              "      <td>146.0</td>\n",
              "      <td>53</td>\n",
              "      <td>1</td>\n",
              "      <td>3</td>\n",
              "      <td>3.0</td>\n",
              "      <td>30.8</td>\n",
              "      <td>90.4</td>\n",
              "      <td>1</td>\n",
              "    </tr>\n",
              "    <tr>\n",
              "      <th>2</th>\n",
              "      <td>138.0</td>\n",
              "      <td>78</td>\n",
              "      <td>1</td>\n",
              "      <td>3</td>\n",
              "      <td>3.0</td>\n",
              "      <td>28.8</td>\n",
              "      <td>83.4</td>\n",
              "      <td>1</td>\n",
              "    </tr>\n",
              "    <tr>\n",
              "      <th>3</th>\n",
              "      <td>132.0</td>\n",
              "      <td>56</td>\n",
              "      <td>2</td>\n",
              "      <td>3</td>\n",
              "      <td>5.0</td>\n",
              "      <td>42.4</td>\n",
              "      <td>109.8</td>\n",
              "      <td>0</td>\n",
              "    </tr>\n",
              "    <tr>\n",
              "      <th>4</th>\n",
              "      <td>100.0</td>\n",
              "      <td>42</td>\n",
              "      <td>2</td>\n",
              "      <td>4</td>\n",
              "      <td>4.0</td>\n",
              "      <td>20.3</td>\n",
              "      <td>55.2</td>\n",
              "      <td>0</td>\n",
              "    </tr>\n",
              "    <tr>\n",
              "      <th>...</th>\n",
              "      <td>...</td>\n",
              "      <td>...</td>\n",
              "      <td>...</td>\n",
              "      <td>...</td>\n",
              "      <td>...</td>\n",
              "      <td>...</td>\n",
              "      <td>...</td>\n",
              "      <td>...</td>\n",
              "    </tr>\n",
              "    <tr>\n",
              "      <th>5730</th>\n",
              "      <td>112.0</td>\n",
              "      <td>76</td>\n",
              "      <td>2</td>\n",
              "      <td>3</td>\n",
              "      <td>3.0</td>\n",
              "      <td>21.5</td>\n",
              "      <td>59.1</td>\n",
              "      <td>1</td>\n",
              "    </tr>\n",
              "    <tr>\n",
              "      <th>5731</th>\n",
              "      <td>118.0</td>\n",
              "      <td>26</td>\n",
              "      <td>1</td>\n",
              "      <td>3</td>\n",
              "      <td>5.0</td>\n",
              "      <td>33.8</td>\n",
              "      <td>112.1</td>\n",
              "      <td>0</td>\n",
              "    </tr>\n",
              "    <tr>\n",
              "      <th>5732</th>\n",
              "      <td>154.0</td>\n",
              "      <td>80</td>\n",
              "      <td>2</td>\n",
              "      <td>3</td>\n",
              "      <td>4.0</td>\n",
              "      <td>31.0</td>\n",
              "      <td>71.7</td>\n",
              "      <td>1</td>\n",
              "    </tr>\n",
              "    <tr>\n",
              "      <th>5733</th>\n",
              "      <td>104.0</td>\n",
              "      <td>35</td>\n",
              "      <td>1</td>\n",
              "      <td>3</td>\n",
              "      <td>1.0</td>\n",
              "      <td>26.0</td>\n",
              "      <td>78.2</td>\n",
              "      <td>1</td>\n",
              "    </tr>\n",
              "    <tr>\n",
              "      <th>5734</th>\n",
              "      <td>118.0</td>\n",
              "      <td>24</td>\n",
              "      <td>2</td>\n",
              "      <td>3</td>\n",
              "      <td>5.0</td>\n",
              "      <td>21.4</td>\n",
              "      <td>58.3</td>\n",
              "      <td>0</td>\n",
              "    </tr>\n",
              "  </tbody>\n",
              "</table>\n",
              "<p>5735 rows × 8 columns</p>\n",
              "</div>\n",
              "      <button class=\"colab-df-convert\" onclick=\"convertToInteractive('df-ff7017d9-4958-4f0e-8b6e-6259afa007a2')\"\n",
              "              title=\"Convert this dataframe to an interactive table.\"\n",
              "              style=\"display:none;\">\n",
              "        \n",
              "  <svg xmlns=\"http://www.w3.org/2000/svg\" height=\"24px\"viewBox=\"0 0 24 24\"\n",
              "       width=\"24px\">\n",
              "    <path d=\"M0 0h24v24H0V0z\" fill=\"none\"/>\n",
              "    <path d=\"M18.56 5.44l.94 2.06.94-2.06 2.06-.94-2.06-.94-.94-2.06-.94 2.06-2.06.94zm-11 1L8.5 8.5l.94-2.06 2.06-.94-2.06-.94L8.5 2.5l-.94 2.06-2.06.94zm10 10l.94 2.06.94-2.06 2.06-.94-2.06-.94-.94-2.06-.94 2.06-2.06.94z\"/><path d=\"M17.41 7.96l-1.37-1.37c-.4-.4-.92-.59-1.43-.59-.52 0-1.04.2-1.43.59L10.3 9.45l-7.72 7.72c-.78.78-.78 2.05 0 2.83L4 21.41c.39.39.9.59 1.41.59.51 0 1.02-.2 1.41-.59l7.78-7.78 2.81-2.81c.8-.78.8-2.07 0-2.86zM5.41 20L4 18.59l7.72-7.72 1.47 1.35L5.41 20z\"/>\n",
              "  </svg>\n",
              "      </button>\n",
              "      \n",
              "  <style>\n",
              "    .colab-df-container {\n",
              "      display:flex;\n",
              "      flex-wrap:wrap;\n",
              "      gap: 12px;\n",
              "    }\n",
              "\n",
              "    .colab-df-convert {\n",
              "      background-color: #E8F0FE;\n",
              "      border: none;\n",
              "      border-radius: 50%;\n",
              "      cursor: pointer;\n",
              "      display: none;\n",
              "      fill: #1967D2;\n",
              "      height: 32px;\n",
              "      padding: 0 0 0 0;\n",
              "      width: 32px;\n",
              "    }\n",
              "\n",
              "    .colab-df-convert:hover {\n",
              "      background-color: #E2EBFA;\n",
              "      box-shadow: 0px 1px 2px rgba(60, 64, 67, 0.3), 0px 1px 3px 1px rgba(60, 64, 67, 0.15);\n",
              "      fill: #174EA6;\n",
              "    }\n",
              "\n",
              "    [theme=dark] .colab-df-convert {\n",
              "      background-color: #3B4455;\n",
              "      fill: #D2E3FC;\n",
              "    }\n",
              "\n",
              "    [theme=dark] .colab-df-convert:hover {\n",
              "      background-color: #434B5C;\n",
              "      box-shadow: 0px 1px 3px 1px rgba(0, 0, 0, 0.15);\n",
              "      filter: drop-shadow(0px 1px 2px rgba(0, 0, 0, 0.3));\n",
              "      fill: #FFFFFF;\n",
              "    }\n",
              "  </style>\n",
              "\n",
              "      <script>\n",
              "        const buttonEl =\n",
              "          document.querySelector('#df-ff7017d9-4958-4f0e-8b6e-6259afa007a2 button.colab-df-convert');\n",
              "        buttonEl.style.display =\n",
              "          google.colab.kernel.accessAllowed ? 'block' : 'none';\n",
              "\n",
              "        async function convertToInteractive(key) {\n",
              "          const element = document.querySelector('#df-ff7017d9-4958-4f0e-8b6e-6259afa007a2');\n",
              "          const dataTable =\n",
              "            await google.colab.kernel.invokeFunction('convertToInteractive',\n",
              "                                                     [key], {});\n",
              "          if (!dataTable) return;\n",
              "\n",
              "          const docLinkHtml = 'Like what you see? Visit the ' +\n",
              "            '<a target=\"_blank\" href=https://colab.research.google.com/notebooks/data_table.ipynb>data table notebook</a>'\n",
              "            + ' to learn more about interactive tables.';\n",
              "          element.innerHTML = '';\n",
              "          dataTable['output_type'] = 'display_data';\n",
              "          await google.colab.output.renderOutput(dataTable, element);\n",
              "          const docLink = document.createElement('div');\n",
              "          docLink.innerHTML = docLinkHtml;\n",
              "          element.appendChild(docLink);\n",
              "        }\n",
              "      </script>\n",
              "    </div>\n",
              "  </div>\n",
              "  "
            ]
          },
          "metadata": {},
          "execution_count": 2
        }
      ]
    },
    {
      "cell_type": "markdown",
      "source": [
        "Dataset is limited to 8 columns of data that represents demographic and health-related data for survey respondents. "
      ],
      "metadata": {
        "id": "sUWM_3jjL__A"
      }
    },
    {
      "cell_type": "markdown",
      "metadata": {
        "id": "tq1Ixc-p6mPQ"
      },
      "source": [
        "## Descriptive Statistical Analysis <a name=\"dsa\"></a> "
      ]
    },
    {
      "cell_type": "code",
      "execution_count": 3,
      "metadata": {
        "colab": {
          "base_uri": "https://localhost:8080/"
        },
        "id": "12av9E-86mPR",
        "outputId": "6bab5c8a-8719-4629-f32b-f6f5f71e638b"
      },
      "outputs": [
        {
          "output_type": "stream",
          "name": "stdout",
          "text": [
            "BP           float64\n",
            "AGE            int64\n",
            "GENDER         int64\n",
            "RACE           int64\n",
            "EDUCATION    float64\n",
            "BMI          float64\n",
            "WEIGHT       float64\n",
            "CIGSMK         int64\n",
            "dtype: object\n"
          ]
        }
      ],
      "source": [
        "# Review list of data types for each column\n",
        "print(df.dtypes)"
      ]
    },
    {
      "cell_type": "markdown",
      "source": [
        "Handling Missing Values"
      ],
      "metadata": {
        "id": "0B3DiFJWz3NT"
      }
    },
    {
      "cell_type": "code",
      "source": [
        "#Evaluating for Missing Data\n",
        "#Use function to identify missing values \n",
        "missing_data = df.isnull()\n",
        "\n",
        "# Identify all missings in each column\n",
        "# \"True\" indicates missing values \n",
        "for column in missing_data.columns.values.tolist():\n",
        "    print(column)\n",
        "    print (missing_data[column].value_counts())\n",
        "    print(\"\") \n"
      ],
      "metadata": {
        "id": "97f_9YwtzdIF",
        "colab": {
          "base_uri": "https://localhost:8080/"
        },
        "outputId": "44450c4d-17f3-4eea-b0f2-0b0ddc4fd3aa"
      },
      "execution_count": 4,
      "outputs": [
        {
          "output_type": "stream",
          "name": "stdout",
          "text": [
            "BP\n",
            "False    5401\n",
            "True      334\n",
            "Name: BP, dtype: int64\n",
            "\n",
            "AGE\n",
            "False    5735\n",
            "Name: AGE, dtype: int64\n",
            "\n",
            "GENDER\n",
            "False    5735\n",
            "Name: GENDER, dtype: int64\n",
            "\n",
            "RACE\n",
            "False    5735\n",
            "Name: RACE, dtype: int64\n",
            "\n",
            "EDUCATION\n",
            "False    5474\n",
            "True      261\n",
            "Name: EDUCATION, dtype: int64\n",
            "\n",
            "BMI\n",
            "False    5662\n",
            "True       73\n",
            "Name: BMI, dtype: int64\n",
            "\n",
            "WEIGHT\n",
            "False    5666\n",
            "True       69\n",
            "Name: WEIGHT, dtype: int64\n",
            "\n",
            "CIGSMK\n",
            "False    5735\n",
            "Name: CIGSMK, dtype: int64\n",
            "\n"
          ]
        }
      ]
    },
    {
      "cell_type": "markdown",
      "source": [
        "**Dataset Missing Values Summary**\n",
        "\n",
        "Based on the summary above, this dataset contains 5,735 rows and 8 columns of data, 4 columns contain missing data.\n",
        "\n",
        "<ol>\n",
        "    <li>\"BP\": 334 missing data</li>\n",
        "    <li>\"EDUCATION\": 261 missing data</li>\n",
        "    <li>\"BMI\": 73 missing data</li>\n",
        "    <li>\"WEIGHT\": 69 missing data</li>\n",
        "</ol>"
      ],
      "metadata": {
        "id": "zBa21G-u0auZ"
      }
    },
    {
      "cell_type": "markdown",
      "source": [
        "<h3 id=\"deal_missing_values\">Example ways to deal with missing data</h3>\n",
        "<b>How to deal with missing data?</b>\n",
        "\n",
        "<ol>\n",
        "    <li>Drop data<br>\n",
        "        a. Drop the whole row<br>\n",
        "        b. Drop the whole column\n",
        "    </li>\n",
        "    <li>Replace data<br>\n",
        "        a. Replace it by mean<br>\n",
        "        b. Replace it by frequency<br>\n",
        "        c. Replace it based on other functions\n",
        "    </li>\n",
        "</ol>"
      ],
      "metadata": {
        "id": "kpzrLDqMHTQG"
      }
    },
    {
      "cell_type": "markdown",
      "source": [
        "Drop data"
      ],
      "metadata": {
        "id": "hdTTiyfjsNl4"
      }
    },
    {
      "cell_type": "code",
      "source": [
        "# Drop all rows that do not have a value for the column \"WEIGHT\"\n",
        "# 69 Rows will be dropped from \"WEIGHT\", leaving 5,666 rows of data \n",
        "df.dropna(subset=[\"WEIGHT\"], axis=0, inplace=True)\n",
        "df.reset_index(drop=True, inplace=True)\n"
      ],
      "metadata": {
        "id": "PKoX8qsaHuVJ"
      },
      "execution_count": 5,
      "outputs": []
    },
    {
      "cell_type": "code",
      "source": [
        "# Review summary statistics for columns in dataset\n",
        "df.describe()"
      ],
      "metadata": {
        "colab": {
          "base_uri": "https://localhost:8080/",
          "height": 300
        },
        "id": "xhoyECPrZhQE",
        "outputId": "75d56683-ec74-446b-cf8d-ce87e7a9d664"
      },
      "execution_count": 6,
      "outputs": [
        {
          "output_type": "execute_result",
          "data": {
            "text/plain": [
              "               BP          AGE       GENDER         RACE    EDUCATION  \\\n",
              "count  5351.00000  5666.000000  5666.000000  5666.000000  5410.000000   \n",
              "mean    125.02635    47.992058     1.520120     3.044299     3.444917   \n",
              "std      18.39327    18.393572     0.499639     1.296331     1.308849   \n",
              "min      82.00000    18.000000     1.000000     1.000000     1.000000   \n",
              "25%     112.00000    32.000000     1.000000     2.000000     3.000000   \n",
              "50%     122.00000    48.000000     2.000000     3.000000     4.000000   \n",
              "75%     134.00000    63.000000     2.000000     4.000000     5.000000   \n",
              "max     236.00000    80.000000     2.000000     5.000000     9.000000   \n",
              "\n",
              "               BMI       WEIGHT       CIGSMK  \n",
              "count  5662.000000  5666.000000  5666.000000  \n",
              "mean     29.382197    81.342676     0.403636  \n",
              "std       7.095921    21.764409     0.490669  \n",
              "min      14.500000    32.400000     0.000000  \n",
              "25%      24.300000    65.900000     0.000000  \n",
              "50%      28.300000    78.200000     0.000000  \n",
              "75%      33.000000    92.700000     1.000000  \n",
              "max      67.300000   198.900000     1.000000  "
            ],
            "text/html": [
              "\n",
              "  <div id=\"df-18698b42-8516-4857-9534-d9998bc10cae\">\n",
              "    <div class=\"colab-df-container\">\n",
              "      <div>\n",
              "<style scoped>\n",
              "    .dataframe tbody tr th:only-of-type {\n",
              "        vertical-align: middle;\n",
              "    }\n",
              "\n",
              "    .dataframe tbody tr th {\n",
              "        vertical-align: top;\n",
              "    }\n",
              "\n",
              "    .dataframe thead th {\n",
              "        text-align: right;\n",
              "    }\n",
              "</style>\n",
              "<table border=\"1\" class=\"dataframe\">\n",
              "  <thead>\n",
              "    <tr style=\"text-align: right;\">\n",
              "      <th></th>\n",
              "      <th>BP</th>\n",
              "      <th>AGE</th>\n",
              "      <th>GENDER</th>\n",
              "      <th>RACE</th>\n",
              "      <th>EDUCATION</th>\n",
              "      <th>BMI</th>\n",
              "      <th>WEIGHT</th>\n",
              "      <th>CIGSMK</th>\n",
              "    </tr>\n",
              "  </thead>\n",
              "  <tbody>\n",
              "    <tr>\n",
              "      <th>count</th>\n",
              "      <td>5351.00000</td>\n",
              "      <td>5666.000000</td>\n",
              "      <td>5666.000000</td>\n",
              "      <td>5666.000000</td>\n",
              "      <td>5410.000000</td>\n",
              "      <td>5662.000000</td>\n",
              "      <td>5666.000000</td>\n",
              "      <td>5666.000000</td>\n",
              "    </tr>\n",
              "    <tr>\n",
              "      <th>mean</th>\n",
              "      <td>125.02635</td>\n",
              "      <td>47.992058</td>\n",
              "      <td>1.520120</td>\n",
              "      <td>3.044299</td>\n",
              "      <td>3.444917</td>\n",
              "      <td>29.382197</td>\n",
              "      <td>81.342676</td>\n",
              "      <td>0.403636</td>\n",
              "    </tr>\n",
              "    <tr>\n",
              "      <th>std</th>\n",
              "      <td>18.39327</td>\n",
              "      <td>18.393572</td>\n",
              "      <td>0.499639</td>\n",
              "      <td>1.296331</td>\n",
              "      <td>1.308849</td>\n",
              "      <td>7.095921</td>\n",
              "      <td>21.764409</td>\n",
              "      <td>0.490669</td>\n",
              "    </tr>\n",
              "    <tr>\n",
              "      <th>min</th>\n",
              "      <td>82.00000</td>\n",
              "      <td>18.000000</td>\n",
              "      <td>1.000000</td>\n",
              "      <td>1.000000</td>\n",
              "      <td>1.000000</td>\n",
              "      <td>14.500000</td>\n",
              "      <td>32.400000</td>\n",
              "      <td>0.000000</td>\n",
              "    </tr>\n",
              "    <tr>\n",
              "      <th>25%</th>\n",
              "      <td>112.00000</td>\n",
              "      <td>32.000000</td>\n",
              "      <td>1.000000</td>\n",
              "      <td>2.000000</td>\n",
              "      <td>3.000000</td>\n",
              "      <td>24.300000</td>\n",
              "      <td>65.900000</td>\n",
              "      <td>0.000000</td>\n",
              "    </tr>\n",
              "    <tr>\n",
              "      <th>50%</th>\n",
              "      <td>122.00000</td>\n",
              "      <td>48.000000</td>\n",
              "      <td>2.000000</td>\n",
              "      <td>3.000000</td>\n",
              "      <td>4.000000</td>\n",
              "      <td>28.300000</td>\n",
              "      <td>78.200000</td>\n",
              "      <td>0.000000</td>\n",
              "    </tr>\n",
              "    <tr>\n",
              "      <th>75%</th>\n",
              "      <td>134.00000</td>\n",
              "      <td>63.000000</td>\n",
              "      <td>2.000000</td>\n",
              "      <td>4.000000</td>\n",
              "      <td>5.000000</td>\n",
              "      <td>33.000000</td>\n",
              "      <td>92.700000</td>\n",
              "      <td>1.000000</td>\n",
              "    </tr>\n",
              "    <tr>\n",
              "      <th>max</th>\n",
              "      <td>236.00000</td>\n",
              "      <td>80.000000</td>\n",
              "      <td>2.000000</td>\n",
              "      <td>5.000000</td>\n",
              "      <td>9.000000</td>\n",
              "      <td>67.300000</td>\n",
              "      <td>198.900000</td>\n",
              "      <td>1.000000</td>\n",
              "    </tr>\n",
              "  </tbody>\n",
              "</table>\n",
              "</div>\n",
              "      <button class=\"colab-df-convert\" onclick=\"convertToInteractive('df-18698b42-8516-4857-9534-d9998bc10cae')\"\n",
              "              title=\"Convert this dataframe to an interactive table.\"\n",
              "              style=\"display:none;\">\n",
              "        \n",
              "  <svg xmlns=\"http://www.w3.org/2000/svg\" height=\"24px\"viewBox=\"0 0 24 24\"\n",
              "       width=\"24px\">\n",
              "    <path d=\"M0 0h24v24H0V0z\" fill=\"none\"/>\n",
              "    <path d=\"M18.56 5.44l.94 2.06.94-2.06 2.06-.94-2.06-.94-.94-2.06-.94 2.06-2.06.94zm-11 1L8.5 8.5l.94-2.06 2.06-.94-2.06-.94L8.5 2.5l-.94 2.06-2.06.94zm10 10l.94 2.06.94-2.06 2.06-.94-2.06-.94-.94-2.06-.94 2.06-2.06.94z\"/><path d=\"M17.41 7.96l-1.37-1.37c-.4-.4-.92-.59-1.43-.59-.52 0-1.04.2-1.43.59L10.3 9.45l-7.72 7.72c-.78.78-.78 2.05 0 2.83L4 21.41c.39.39.9.59 1.41.59.51 0 1.02-.2 1.41-.59l7.78-7.78 2.81-2.81c.8-.78.8-2.07 0-2.86zM5.41 20L4 18.59l7.72-7.72 1.47 1.35L5.41 20z\"/>\n",
              "  </svg>\n",
              "      </button>\n",
              "      \n",
              "  <style>\n",
              "    .colab-df-container {\n",
              "      display:flex;\n",
              "      flex-wrap:wrap;\n",
              "      gap: 12px;\n",
              "    }\n",
              "\n",
              "    .colab-df-convert {\n",
              "      background-color: #E8F0FE;\n",
              "      border: none;\n",
              "      border-radius: 50%;\n",
              "      cursor: pointer;\n",
              "      display: none;\n",
              "      fill: #1967D2;\n",
              "      height: 32px;\n",
              "      padding: 0 0 0 0;\n",
              "      width: 32px;\n",
              "    }\n",
              "\n",
              "    .colab-df-convert:hover {\n",
              "      background-color: #E2EBFA;\n",
              "      box-shadow: 0px 1px 2px rgba(60, 64, 67, 0.3), 0px 1px 3px 1px rgba(60, 64, 67, 0.15);\n",
              "      fill: #174EA6;\n",
              "    }\n",
              "\n",
              "    [theme=dark] .colab-df-convert {\n",
              "      background-color: #3B4455;\n",
              "      fill: #D2E3FC;\n",
              "    }\n",
              "\n",
              "    [theme=dark] .colab-df-convert:hover {\n",
              "      background-color: #434B5C;\n",
              "      box-shadow: 0px 1px 3px 1px rgba(0, 0, 0, 0.15);\n",
              "      filter: drop-shadow(0px 1px 2px rgba(0, 0, 0, 0.3));\n",
              "      fill: #FFFFFF;\n",
              "    }\n",
              "  </style>\n",
              "\n",
              "      <script>\n",
              "        const buttonEl =\n",
              "          document.querySelector('#df-18698b42-8516-4857-9534-d9998bc10cae button.colab-df-convert');\n",
              "        buttonEl.style.display =\n",
              "          google.colab.kernel.accessAllowed ? 'block' : 'none';\n",
              "\n",
              "        async function convertToInteractive(key) {\n",
              "          const element = document.querySelector('#df-18698b42-8516-4857-9534-d9998bc10cae');\n",
              "          const dataTable =\n",
              "            await google.colab.kernel.invokeFunction('convertToInteractive',\n",
              "                                                     [key], {});\n",
              "          if (!dataTable) return;\n",
              "\n",
              "          const docLinkHtml = 'Like what you see? Visit the ' +\n",
              "            '<a target=\"_blank\" href=https://colab.research.google.com/notebooks/data_table.ipynb>data table notebook</a>'\n",
              "            + ' to learn more about interactive tables.';\n",
              "          element.innerHTML = '';\n",
              "          dataTable['output_type'] = 'display_data';\n",
              "          await google.colab.output.renderOutput(dataTable, element);\n",
              "          const docLink = document.createElement('div');\n",
              "          docLink.innerHTML = docLinkHtml;\n",
              "          element.appendChild(docLink);\n",
              "        }\n",
              "      </script>\n",
              "    </div>\n",
              "  </div>\n",
              "  "
            ]
          },
          "metadata": {},
          "execution_count": 6
        }
      ]
    },
    {
      "cell_type": "markdown",
      "source": [
        "Replace Data"
      ],
      "metadata": {
        "id": "sheHzZCJsTRv"
      }
    },
    {
      "cell_type": "code",
      "source": [
        "# Impute missing values for the outcome column \"BP\"\n",
        "# Replace missings in the column \"BP\" with the mean\n",
        "# Calculate the mean value for the \"BP\" column\n",
        "avg_BP = df[\"BP\"].mean(axis=0)\n",
        "print(\"Average BP:\", avg_BP)"
      ],
      "metadata": {
        "colab": {
          "base_uri": "https://localhost:8080/"
        },
        "id": "NqeUC0jx1tZC",
        "outputId": "8cf8a1d3-7ea6-4a5c-8af5-660cbf991026"
      },
      "execution_count": 7,
      "outputs": [
        {
          "output_type": "stream",
          "name": "stdout",
          "text": [
            "Average BP: 125.0263502149131\n"
          ]
        }
      ]
    },
    {
      "cell_type": "code",
      "source": [
        "# Replace Missings or \"NaN\" with mean value in \"BP\" column\n",
        "df[\"BP\"].replace(np.nan, avg_BP, inplace=True)"
      ],
      "metadata": {
        "id": "mn8bA36S1s7Z"
      },
      "execution_count": 8,
      "outputs": []
    },
    {
      "cell_type": "code",
      "source": [
        "# Display summary statistics\n",
        "df[\"BP\"].describe()"
      ],
      "metadata": {
        "colab": {
          "base_uri": "https://localhost:8080/"
        },
        "id": "r08rHKe0dKe4",
        "outputId": "8b04a23f-8505-4ea3-f795-a7737f77023b"
      },
      "execution_count": 9,
      "outputs": [
        {
          "output_type": "execute_result",
          "data": {
            "text/plain": [
              "count    5666.000000\n",
              "mean      125.026350\n",
              "std        17.874582\n",
              "min        82.000000\n",
              "25%       114.000000\n",
              "50%       124.000000\n",
              "75%       134.000000\n",
              "max       236.000000\n",
              "Name: BP, dtype: float64"
            ]
          },
          "metadata": {},
          "execution_count": 9
        }
      ]
    },
    {
      "cell_type": "code",
      "source": [
        "# Impute missing \"BMI\" values \n",
        "# Replace missings in the column \"BMI\" with the mean\n",
        "# Calculate the mean value for the \"BMI\" column\n",
        "avg_BMI = df[\"BMI\"].mean(axis=0)\n",
        "print(\"Average BMI:\", avg_BMI)"
      ],
      "metadata": {
        "colab": {
          "base_uri": "https://localhost:8080/"
        },
        "id": "LVoxsw8W9b17",
        "outputId": "bfbc3c75-aba9-492b-ac97-6fbd559e56b4"
      },
      "execution_count": 10,
      "outputs": [
        {
          "output_type": "stream",
          "name": "stdout",
          "text": [
            "Average BMI: 29.382197103497\n"
          ]
        }
      ]
    },
    {
      "cell_type": "code",
      "source": [
        "# Replace missings or \"NaN\" with mean value in \"BP\" column\n",
        "df[\"BMI\"].replace(np.nan, avg_BMI, inplace=True)\n",
        "df[\"BMI\"].describe()"
      ],
      "metadata": {
        "colab": {
          "base_uri": "https://localhost:8080/"
        },
        "id": "qIP74ixb9vmS",
        "outputId": "fe4924ef-2e91-4642-b1a4-450583a348d0"
      },
      "execution_count": 11,
      "outputs": [
        {
          "output_type": "execute_result",
          "data": {
            "text/plain": [
              "count    5666.000000\n",
              "mean       29.382197\n",
              "std         7.093415\n",
              "min        14.500000\n",
              "25%        24.300000\n",
              "50%        28.300000\n",
              "75%        33.000000\n",
              "max        67.300000\n",
              "Name: BMI, dtype: float64"
            ]
          },
          "metadata": {},
          "execution_count": 11
        }
      ]
    },
    {
      "cell_type": "code",
      "source": [
        "# Replace missings in \"EDUCATION\" column with most frequent value (4)\n",
        "df['EDUCATION'].value_counts().idxmax()"
      ],
      "metadata": {
        "colab": {
          "base_uri": "https://localhost:8080/"
        },
        "id": "9dA_4ab0Cm2_",
        "outputId": "6edcfb70-79dc-4c90-b79b-9658eb8448b8"
      },
      "execution_count": 12,
      "outputs": [
        {
          "output_type": "execute_result",
          "data": {
            "text/plain": [
              "4.0"
            ]
          },
          "metadata": {},
          "execution_count": 12
        }
      ]
    },
    {
      "cell_type": "code",
      "source": [
        "df[\"EDUCATION\"].replace(np.nan, 4, inplace=True)\n",
        "df[\"EDUCATION\"].describe()"
      ],
      "metadata": {
        "colab": {
          "base_uri": "https://localhost:8080/"
        },
        "id": "dPJxPF_fB9SU",
        "outputId": "bd8fb9b5-7549-4a34-945c-237d6ab78840"
      },
      "execution_count": 13,
      "outputs": [
        {
          "output_type": "execute_result",
          "data": {
            "text/plain": [
              "count    5666.000000\n",
              "mean        3.469996\n",
              "std         1.284121\n",
              "min         1.000000\n",
              "25%         3.000000\n",
              "50%         4.000000\n",
              "75%         4.000000\n",
              "max         9.000000\n",
              "Name: EDUCATION, dtype: float64"
            ]
          },
          "metadata": {},
          "execution_count": 13
        }
      ]
    },
    {
      "cell_type": "code",
      "source": [
        "#Plot histograms of variables\n",
        "viz = df[['BP','AGE','BMI','CIGSMK']]\n",
        "viz.hist()\n",
        "plt.show()"
      ],
      "metadata": {
        "colab": {
          "base_uri": "https://localhost:8080/",
          "height": 281
        },
        "id": "_SIrvD2-JSzD",
        "outputId": "f7dca356-0be9-4b78-fc1d-8341c213dc42"
      },
      "execution_count": 14,
      "outputs": [
        {
          "output_type": "display_data",
          "data": {
            "text/plain": [
              "<Figure size 432x288 with 4 Axes>"
            ],
            "image/png": "[encoded data removed]"
          },
          "metadata": {
            "needs_background": "light"
          }
        }
      ]
    },
    {
      "cell_type": "markdown",
      "source": [
        "####Categorical Variables"
      ],
      "metadata": {
        "id": "wSX05adDjco7"
      }
    },
    {
      "cell_type": "markdown",
      "source": [
        "Plot categorical variables using boxplots to visualize distributions"
      ],
      "metadata": {
        "id": "p-XlLWIir_Yt"
      }
    },
    {
      "cell_type": "code",
      "source": [
        "sns.boxplot(x=\"EDUCATION\", y=\"BP\", data=df)"
      ],
      "metadata": {
        "colab": {
          "base_uri": "https://localhost:8080/",
          "height": 296
        },
        "id": "gAWD7DH3M9VG",
        "outputId": "f4cbc9bc-9efa-4a87-8c0f-e0417cd0e51f"
      },
      "execution_count": 15,
      "outputs": [
        {
          "output_type": "execute_result",
          "data": {
            "text/plain": [
              "<AxesSubplot:xlabel='EDUCATION', ylabel='BP'>"
            ]
          },
          "metadata": {},
          "execution_count": 15
        },
        {
          "output_type": "display_data",
          "data": {
            "text/plain": [
              "<Figure size 432x288 with 1 Axes>"
            ],
            "image/png": "[encoded data removed]"
          },
          "metadata": {
            "needs_background": "light"
          }
        }
      ]
    },
    {
      "cell_type": "code",
      "source": [
        "sns.boxplot(x=\"GENDER\", y=\"BP\", data=df)"
      ],
      "metadata": {
        "colab": {
          "base_uri": "https://localhost:8080/",
          "height": 296
        },
        "id": "i2xp1iH7N5vQ",
        "outputId": "0f7d326c-20c8-4cef-abef-13020baf6181"
      },
      "execution_count": 16,
      "outputs": [
        {
          "output_type": "execute_result",
          "data": {
            "text/plain": [
              "<AxesSubplot:xlabel='GENDER', ylabel='BP'>"
            ]
          },
          "metadata": {},
          "execution_count": 16
        },
        {
          "output_type": "display_data",
          "data": {
            "text/plain": [
              "<Figure size 432x288 with 1 Axes>"
            ],
            "image/png": "[encoded data removed]"
          },
          "metadata": {
            "needs_background": "light"
          }
        }
      ]
    },
    {
      "cell_type": "code",
      "source": [
        "sns.boxplot(x=\"RACE\", y=\"BP\", data=df)"
      ],
      "metadata": {
        "colab": {
          "base_uri": "https://localhost:8080/",
          "height": 296
        },
        "id": "FlA1NqC0OVAo",
        "outputId": "e64d8f09-e0b2-4951-b686-3316c3772ed4"
      },
      "execution_count": 17,
      "outputs": [
        {
          "output_type": "execute_result",
          "data": {
            "text/plain": [
              "<AxesSubplot:xlabel='RACE', ylabel='BP'>"
            ]
          },
          "metadata": {},
          "execution_count": 17
        },
        {
          "output_type": "display_data",
          "data": {
            "text/plain": [
              "<Figure size 432x288 with 1 Axes>"
            ],
            "image/png": "[encoded data removed]"
          },
          "metadata": {
            "needs_background": "light"
          }
        }
      ]
    },
    {
      "cell_type": "markdown",
      "source": [
        "The categories for \"EDUCATION\", \"GENDER\", and \"RACE\" all have significant overlap so they would not be the best predictors of \"BP\". However, they still may be of interest to model."
      ],
      "metadata": {
        "id": "1dxwMkJbsQr6"
      }
    },
    {
      "cell_type": "markdown",
      "metadata": {
        "id": "ULiXEGm56mPR"
      },
      "source": [
        "## Correlation <a name=\"corr\"></a>\n",
        "\n"
      ]
    },
    {
      "cell_type": "code",
      "execution_count": 18,
      "metadata": {
        "colab": {
          "base_uri": "https://localhost:8080/",
          "height": 300
        },
        "id": "D_4xZi3p6mPR",
        "outputId": "13e68fae-3749-42a4-a9d8-6922963c343d"
      },
      "outputs": [
        {
          "output_type": "execute_result",
          "data": {
            "text/plain": [
              "                 BP       AGE    GENDER      RACE  EDUCATION       BMI  \\\n",
              "BP         1.000000  0.458908 -0.096589 -0.009634  -0.151923  0.129613   \n",
              "AGE        0.458908  1.000000 -0.011286 -0.043531  -0.161009  0.059580   \n",
              "GENDER    -0.096589 -0.011286  1.000000 -0.027949   0.022539  0.081783   \n",
              "RACE      -0.009634 -0.043531 -0.027949  1.000000   0.296709 -0.155914   \n",
              "EDUCATION -0.151923 -0.161009  0.022539  0.296709   1.000000 -0.060686   \n",
              "BMI        0.129613  0.059580  0.081783 -0.155914  -0.060686  1.000000   \n",
              "WEIGHT     0.117792 -0.010378 -0.230864 -0.065482   0.035447  0.883874   \n",
              "CIGSMK     0.109822  0.180258 -0.210621 -0.014795  -0.106147  0.024182   \n",
              "\n",
              "             WEIGHT    CIGSMK  \n",
              "BP         0.117792  0.109822  \n",
              "AGE       -0.010378  0.180258  \n",
              "GENDER    -0.230864 -0.210621  \n",
              "RACE      -0.065482 -0.014795  \n",
              "EDUCATION  0.035447 -0.106147  \n",
              "BMI        0.883874  0.024182  \n",
              "WEIGHT     1.000000  0.105539  \n",
              "CIGSMK     0.105539  1.000000  "
            ],
            "text/html": [
              "\n",
              "  <div id=\"df-7c45392b-da5f-4424-b032-be5b75fbe4f2\">\n",
              "    <div class=\"colab-df-container\">\n",
              "      <div>\n",
              "<style scoped>\n",
              "    .dataframe tbody tr th:only-of-type {\n",
              "        vertical-align: middle;\n",
              "    }\n",
              "\n",
              "    .dataframe tbody tr th {\n",
              "        vertical-align: top;\n",
              "    }\n",
              "\n",
              "    .dataframe thead th {\n",
              "        text-align: right;\n",
              "    }\n",
              "</style>\n",
              "<table border=\"1\" class=\"dataframe\">\n",
              "  <thead>\n",
              "    <tr style=\"text-align: right;\">\n",
              "      <th></th>\n",
              "      <th>BP</th>\n",
              "      <th>AGE</th>\n",
              "      <th>GENDER</th>\n",
              "      <th>RACE</th>\n",
              "      <th>EDUCATION</th>\n",
              "      <th>BMI</th>\n",
              "      <th>WEIGHT</th>\n",
              "      <th>CIGSMK</th>\n",
              "    </tr>\n",
              "  </thead>\n",
              "  <tbody>\n",
              "    <tr>\n",
              "      <th>BP</th>\n",
              "      <td>1.000000</td>\n",
              "      <td>0.458908</td>\n",
              "      <td>-0.096589</td>\n",
              "      <td>-0.009634</td>\n",
              "      <td>-0.151923</td>\n",
              "      <td>0.129613</td>\n",
              "      <td>0.117792</td>\n",
              "      <td>0.109822</td>\n",
              "    </tr>\n",
              "    <tr>\n",
              "      <th>AGE</th>\n",
              "      <td>0.458908</td>\n",
              "      <td>1.000000</td>\n",
              "      <td>-0.011286</td>\n",
              "      <td>-0.043531</td>\n",
              "      <td>-0.161009</td>\n",
              "      <td>0.059580</td>\n",
              "      <td>-0.010378</td>\n",
              "      <td>0.180258</td>\n",
              "    </tr>\n",
              "    <tr>\n",
              "      <th>GENDER</th>\n",
              "      <td>-0.096589</td>\n",
              "      <td>-0.011286</td>\n",
              "      <td>1.000000</td>\n",
              "      <td>-0.027949</td>\n",
              "      <td>0.022539</td>\n",
              "      <td>0.081783</td>\n",
              "      <td>-0.230864</td>\n",
              "      <td>-0.210621</td>\n",
              "    </tr>\n",
              "    <tr>\n",
              "      <th>RACE</th>\n",
              "      <td>-0.009634</td>\n",
              "      <td>-0.043531</td>\n",
              "      <td>-0.027949</td>\n",
              "      <td>1.000000</td>\n",
              "      <td>0.296709</td>\n",
              "      <td>-0.155914</td>\n",
              "      <td>-0.065482</td>\n",
              "      <td>-0.014795</td>\n",
              "    </tr>\n",
              "    <tr>\n",
              "      <th>EDUCATION</th>\n",
              "      <td>-0.151923</td>\n",
              "      <td>-0.161009</td>\n",
              "      <td>0.022539</td>\n",
              "      <td>0.296709</td>\n",
              "      <td>1.000000</td>\n",
              "      <td>-0.060686</td>\n",
              "      <td>0.035447</td>\n",
              "      <td>-0.106147</td>\n",
              "    </tr>\n",
              "    <tr>\n",
              "      <th>BMI</th>\n",
              "      <td>0.129613</td>\n",
              "      <td>0.059580</td>\n",
              "      <td>0.081783</td>\n",
              "      <td>-0.155914</td>\n",
              "      <td>-0.060686</td>\n",
              "      <td>1.000000</td>\n",
              "      <td>0.883874</td>\n",
              "      <td>0.024182</td>\n",
              "    </tr>\n",
              "    <tr>\n",
              "      <th>WEIGHT</th>\n",
              "      <td>0.117792</td>\n",
              "      <td>-0.010378</td>\n",
              "      <td>-0.230864</td>\n",
              "      <td>-0.065482</td>\n",
              "      <td>0.035447</td>\n",
              "      <td>0.883874</td>\n",
              "      <td>1.000000</td>\n",
              "      <td>0.105539</td>\n",
              "    </tr>\n",
              "    <tr>\n",
              "      <th>CIGSMK</th>\n",
              "      <td>0.109822</td>\n",
              "      <td>0.180258</td>\n",
              "      <td>-0.210621</td>\n",
              "      <td>-0.014795</td>\n",
              "      <td>-0.106147</td>\n",
              "      <td>0.024182</td>\n",
              "      <td>0.105539</td>\n",
              "      <td>1.000000</td>\n",
              "    </tr>\n",
              "  </tbody>\n",
              "</table>\n",
              "</div>\n",
              "      <button class=\"colab-df-convert\" onclick=\"convertToInteractive('df-7c45392b-da5f-4424-b032-be5b75fbe4f2')\"\n",
              "              title=\"Convert this dataframe to an interactive table.\"\n",
              "              style=\"display:none;\">\n",
              "        \n",
              "  <svg xmlns=\"http://www.w3.org/2000/svg\" height=\"24px\"viewBox=\"0 0 24 24\"\n",
              "       width=\"24px\">\n",
              "    <path d=\"M0 0h24v24H0V0z\" fill=\"none\"/>\n",
              "    <path d=\"M18.56 5.44l.94 2.06.94-2.06 2.06-.94-2.06-.94-.94-2.06-.94 2.06-2.06.94zm-11 1L8.5 8.5l.94-2.06 2.06-.94-2.06-.94L8.5 2.5l-.94 2.06-2.06.94zm10 10l.94 2.06.94-2.06 2.06-.94-2.06-.94-.94-2.06-.94 2.06-2.06.94z\"/><path d=\"M17.41 7.96l-1.37-1.37c-.4-.4-.92-.59-1.43-.59-.52 0-1.04.2-1.43.59L10.3 9.45l-7.72 7.72c-.78.78-.78 2.05 0 2.83L4 21.41c.39.39.9.59 1.41.59.51 0 1.02-.2 1.41-.59l7.78-7.78 2.81-2.81c.8-.78.8-2.07 0-2.86zM5.41 20L4 18.59l7.72-7.72 1.47 1.35L5.41 20z\"/>\n",
              "  </svg>\n",
              "      </button>\n",
              "      \n",
              "  <style>\n",
              "    .colab-df-container {\n",
              "      display:flex;\n",
              "      flex-wrap:wrap;\n",
              "      gap: 12px;\n",
              "    }\n",
              "\n",
              "    .colab-df-convert {\n",
              "      background-color: #E8F0FE;\n",
              "      border: none;\n",
              "      border-radius: 50%;\n",
              "      cursor: pointer;\n",
              "      display: none;\n",
              "      fill: #1967D2;\n",
              "      height: 32px;\n",
              "      padding: 0 0 0 0;\n",
              "      width: 32px;\n",
              "    }\n",
              "\n",
              "    .colab-df-convert:hover {\n",
              "      background-color: #E2EBFA;\n",
              "      box-shadow: 0px 1px 2px rgba(60, 64, 67, 0.3), 0px 1px 3px 1px rgba(60, 64, 67, 0.15);\n",
              "      fill: #174EA6;\n",
              "    }\n",
              "\n",
              "    [theme=dark] .colab-df-convert {\n",
              "      background-color: #3B4455;\n",
              "      fill: #D2E3FC;\n",
              "    }\n",
              "\n",
              "    [theme=dark] .colab-df-convert:hover {\n",
              "      background-color: #434B5C;\n",
              "      box-shadow: 0px 1px 3px 1px rgba(0, 0, 0, 0.15);\n",
              "      filter: drop-shadow(0px 1px 2px rgba(0, 0, 0, 0.3));\n",
              "      fill: #FFFFFF;\n",
              "    }\n",
              "  </style>\n",
              "\n",
              "      <script>\n",
              "        const buttonEl =\n",
              "          document.querySelector('#df-7c45392b-da5f-4424-b032-be5b75fbe4f2 button.colab-df-convert');\n",
              "        buttonEl.style.display =\n",
              "          google.colab.kernel.accessAllowed ? 'block' : 'none';\n",
              "\n",
              "        async function convertToInteractive(key) {\n",
              "          const element = document.querySelector('#df-7c45392b-da5f-4424-b032-be5b75fbe4f2');\n",
              "          const dataTable =\n",
              "            await google.colab.kernel.invokeFunction('convertToInteractive',\n",
              "                                                     [key], {});\n",
              "          if (!dataTable) return;\n",
              "\n",
              "          const docLinkHtml = 'Like what you see? Visit the ' +\n",
              "            '<a target=\"_blank\" href=https://colab.research.google.com/notebooks/data_table.ipynb>data table notebook</a>'\n",
              "            + ' to learn more about interactive tables.';\n",
              "          element.innerHTML = '';\n",
              "          dataTable['output_type'] = 'display_data';\n",
              "          await google.colab.output.renderOutput(dataTable, element);\n",
              "          const docLink = document.createElement('div');\n",
              "          docLink.innerHTML = docLinkHtml;\n",
              "          element.appendChild(docLink);\n",
              "        }\n",
              "      </script>\n",
              "    </div>\n",
              "  </div>\n",
              "  "
            ]
          },
          "metadata": {},
          "execution_count": 18
        }
      ],
      "source": [
        "# Calculate the correlation between all variables \n",
        "pd.set_option('display.max_columns', None)\n",
        "df.corr()"
      ]
    },
    {
      "cell_type": "code",
      "source": [
        "# Create Heatmap to visualize correlation between variables\n",
        "# Specifically, we can visualize how Systolic Blood Pressure\"BP\" is related to the other variables\n",
        "import matplotlib.pyplot as plt\n",
        "%matplotlib inline \n",
        "corr = df.corr()\n",
        "sns.heatmap(corr, annot=True, square=True)\n",
        "plt.yticks(rotation=0)\n",
        "plt.show()"
      ],
      "metadata": {
        "colab": {
          "base_uri": "https://localhost:8080/",
          "height": 318
        },
        "id": "KZJsKeCQRD1a",
        "outputId": "966dfa20-ab3b-40ea-c0f3-f3980da4a5ac"
      },
      "execution_count": 19,
      "outputs": [
        {
          "output_type": "display_data",
          "data": {
            "text/plain": [
              "<Figure size 432x288 with 2 Axes>"
            ],
            "image/png": "[encoded data removed]"
          },
          "metadata": {
            "needs_background": "light"
          }
        }
      ]
    },
    {
      "cell_type": "markdown",
      "source": [
        "Based on a review of the correlations above, we would like to further investigate the correlations between \"AGE\", and \"BP\". The \"AGE\" variable has the strongest with correlation \"BP\". "
      ],
      "metadata": {
        "id": "Q4gfIjcTLsCH"
      }
    },
    {
      "cell_type": "markdown",
      "source": [
        "####Correlation & P-value"
      ],
      "metadata": {
        "id": "k8muR_r3hbEi"
      }
    },
    {
      "cell_type": "code",
      "source": [
        "# Calculate Pearson Correlation Coefficient and P-value between 'AGE' and 'BP'\n",
        "from scipy import stats\n",
        "pearson_coef, p_value = stats.pearsonr(df['AGE'], df['BP'])\n",
        "print(\"The Pearson Correlation Coefficient is\", pearson_coef, \" with a P-value of P =\", p_value)  "
      ],
      "metadata": {
        "colab": {
          "base_uri": "https://localhost:8080/"
        },
        "id": "wHJ5lsvLYCdG",
        "outputId": "159a2fe1-934a-40ab-875b-9b07ba7ae781"
      },
      "execution_count": 20,
      "outputs": [
        {
          "output_type": "stream",
          "name": "stdout",
          "text": [
            "The Pearson Correlation Coefficient is 0.45890793045524114  with a P-value of P = 3.2678897669619706e-293\n"
          ]
        }
      ]
    },
    {
      "cell_type": "markdown",
      "source": [
        "Since the p-value is < 0.001, the correlation between \"AGE\" and \"BP\" is statistically significant, with a moderate linear relationship (~0.46)."
      ],
      "metadata": {
        "id": "IKRxNgn-oSTz"
      }
    },
    {
      "cell_type": "markdown",
      "source": [
        "## Simple Linear Regression <a name=\"slr\"></a>"
      ],
      "metadata": {
        "id": "Fgijfc3FqzgM"
      }
    },
    {
      "cell_type": "markdown",
      "source": [
        "Simple linear regression model with only one covariate, AGE, predicting systolic blood pressure (BP). "
      ],
      "metadata": {
        "id": "nRlQOpVexXR3"
      }
    },
    {
      "cell_type": "code",
      "source": [
        "# Plot AGE vs BP to see how linear their relationship is\n",
        "plt.scatter(df.AGE, df.BP,  color='blue',edgecolor=\"darkblue\")\n",
        "plt.xlabel(\"AGE\")\n",
        "plt.ylabel(\"BP\")\n",
        "plt.show()"
      ],
      "metadata": {
        "colab": {
          "base_uri": "https://localhost:8080/",
          "height": 279
        },
        "id": "5VvRbPPgzr5P",
        "outputId": "860e494e-7a4b-4aba-9913-c85576c15128"
      },
      "execution_count": 36,
      "outputs": [
        {
          "output_type": "display_data",
          "data": {
            "text/plain": [
              "<Figure size 432x288 with 1 Axes>"
            ],
            "image/png": "[encoded data removed]"
          },
          "metadata": {
            "needs_background": "light"
          }
        }
      ]
    },
    {
      "cell_type": "markdown",
      "source": [
        "Based on this scatter plot, as age increases, so does blood pressure."
      ],
      "metadata": {
        "id": "NCUYqGbBQ58t"
      }
    },
    {
      "cell_type": "code",
      "source": [
        "# Create train and test dataset  80% train, 20% test\n",
        "msk = np.random.rand(len(df)) < 0.8\n",
        "train = df[msk]\n",
        "test  = df[~msk]"
      ],
      "metadata": {
        "id": "XtGhMZJ90Oz-"
      },
      "execution_count": 23,
      "outputs": []
    },
    {
      "cell_type": "code",
      "source": [
        "# Training data distribution\n",
        "plt.scatter(train.AGE, train.BP,  color='blue',edgecolor=\"darkblue\")\n",
        "plt.xlabel(\"AGE\")\n",
        "plt.ylabel(\"BP\")\n",
        "plt.show()"
      ],
      "metadata": {
        "colab": {
          "base_uri": "https://localhost:8080/",
          "height": 279
        },
        "id": "Qh7SVsQmzrcG",
        "outputId": "70fd11e7-edea-4356-9fcd-9f41f9ad8d53"
      },
      "execution_count": 37,
      "outputs": [
        {
          "output_type": "display_data",
          "data": {
            "text/plain": [
              "<Figure size 432x288 with 1 Axes>"
            ],
            "image/png": "[encoded data removed]"
          },
          "metadata": {
            "needs_background": "light"
          }
        }
      ]
    },
    {
      "cell_type": "code",
      "source": [
        "# Simple Linear Regression Model\n",
        "from sklearn import linear_model\n",
        "regr = linear_model.LinearRegression()\n",
        "train_x = np.asanyarray(train[['AGE']])\n",
        "train_y = np.asanyarray(train[['BP']])\n",
        "regr.fit(train_x, train_y)\n",
        "# The coefficients\n",
        "print ('Coefficients: ', regr.coef_)\n",
        "print ('Intercept: ',regr.intercept_)"
      ],
      "metadata": {
        "colab": {
          "base_uri": "https://localhost:8080/"
        },
        "id": "lPYRxFur0wnF",
        "outputId": "c260c99d-f678-49a1-fb18-64c9129b1f97"
      },
      "execution_count": 25,
      "outputs": [
        {
          "output_type": "stream",
          "name": "stdout",
          "text": [
            "Coefficients:  [[0.44275732]]\n",
            "Intercept:  [103.71210256]\n"
          ]
        }
      ]
    },
    {
      "cell_type": "code",
      "source": [
        "# Plot the fit line over data\n",
        "plt.scatter(train.AGE, train.BP,  color='blue', label='Data',edgecolor=\"darkblue\")\n",
        "plt.plot(train_x, regr.coef_[0][0]*train_x + regr.intercept_[0], '-r', label='Linear Model')\n",
        "plt.xlabel(\"AGE\")\n",
        "plt.ylabel(\"BP\")\n",
        "plt.title('Simple Linear Regression')\n",
        "plt.legend()\n",
        "plt.show()"
      ],
      "metadata": {
        "colab": {
          "base_uri": "https://localhost:8080/",
          "height": 295
        },
        "id": "_7F9Daq509zd",
        "outputId": "60885f07-54fc-4376-86c4-16bd33519497"
      },
      "execution_count": 61,
      "outputs": [
        {
          "output_type": "display_data",
          "data": {
            "text/plain": [
              "<Figure size 432x288 with 1 Axes>"
            ],
            "image/png": "[encoded data removed]"
          },
          "metadata": {
            "needs_background": "light"
          }
        }
      ]
    },
    {
      "cell_type": "markdown",
      "source": [
        "This fitted model implies that when comparing two people whose ages differ by one year, the older person will on average have 0.44 units higher BP than the younger person. There is strong evidence that there is a real association between systolic blood pressure and age in this population."
      ],
      "metadata": {
        "id": "HPvcd7ZG1FqY"
      }
    },
    {
      "cell_type": "markdown",
      "source": [
        "R-Squared & Error Evaluation"
      ],
      "metadata": {
        "id": "ZgaQn_4h1IDd"
      }
    },
    {
      "cell_type": "code",
      "source": [
        "from sklearn.metrics import r2_score\n",
        "\n",
        "test_x = np.asanyarray(test[['AGE']])\n",
        "test_y = np.asanyarray(test[['BP']])\n",
        "test_y_ = regr.predict(test_x)\n",
        "\n",
        "print(\"Mean absolute error: %.2f\" % np.mean(np.absolute(test_y_ - test_y)))\n",
        "print(\"Residual sum of squares (MSE): %.2f\" % np.mean((test_y_ - test_y) ** 2))\n",
        "print(\"R2-score: %.2f\" % r2_score(test_y , test_y_) )"
      ],
      "metadata": {
        "colab": {
          "base_uri": "https://localhost:8080/"
        },
        "id": "CCtNZdKK1KM1",
        "outputId": "8f4ac643-77c0-47be-ae00-286e6b3c043e"
      },
      "execution_count": 39,
      "outputs": [
        {
          "output_type": "stream",
          "name": "stdout",
          "text": [
            "Mean absolute error: 11.48\n",
            "Residual sum of squares (MSE): 233.84\n",
            "R2-score: 0.23\n"
          ]
        }
      ]
    },
    {
      "cell_type": "markdown",
      "source": [
        "The primary summary statistic for assessing the strength of a predictive relationship in a regression model is the R-squared, which is shown to be 0.23 in the regression output above. This means that 23% of the variation in BP is explained by age."
      ],
      "metadata": {
        "id": "fl8ESXYk2av2"
      }
    },
    {
      "cell_type": "markdown",
      "source": [
        "## Multiple Linear Regression <a name=\"mlr\"></a>"
      ],
      "metadata": {
        "id": "YHF563R3sf5l"
      }
    },
    {
      "cell_type": "markdown",
      "source": [
        "Multiple linear regression model with covariates, age (AGE), CIGSMK (smoking status) and Body Mass Index (BMI), predicting blood pressure (BP)."
      ],
      "metadata": {
        "id": "YAol-e9w97XS"
      }
    },
    {
      "cell_type": "code",
      "source": [
        "# Smoking status added to model\n",
        "# Model includes Age and Smoking status\n",
        "from sklearn import linear_model\n",
        "regr = linear_model.LinearRegression()\n",
        "x = np.asanyarray(train[['AGE','CIGSMK']])\n",
        "y = np.asanyarray(train[['BP']])\n",
        "regr.fit (x, y)\n",
        "# The coefficients\n",
        "print ('Coefficients: ', regr.coef_)"
      ],
      "metadata": {
        "colab": {
          "base_uri": "https://localhost:8080/"
        },
        "id": "-YGzT6fN8Kpe",
        "outputId": "e29c3c88-53de-40e1-da7e-ccc462133bb4"
      },
      "execution_count": 40,
      "outputs": [
        {
          "output_type": "stream",
          "name": "stdout",
          "text": [
            "Coefficients:  [[0.4364103  1.25779089]]\n"
          ]
        }
      ]
    },
    {
      "cell_type": "code",
      "source": [
        "# BMI added to model\n",
        "from sklearn import linear_model\n",
        "regr = linear_model.LinearRegression()\n",
        "x = np.asanyarray(train[['AGE','CIGSMK', 'BMI']])\n",
        "y = np.asanyarray(train[['BP']])\n",
        "regr.fit (x, y)\n",
        "# The coefficients\n",
        "print ('Coefficients: ', regr.coef_)"
      ],
      "metadata": {
        "colab": {
          "base_uri": "https://localhost:8080/"
        },
        "id": "1hQjagS-slAE",
        "outputId": "9d649a78-e7ca-491a-b4d3-4f176b117ce7"
      },
      "execution_count": 41,
      "outputs": [
        {
          "output_type": "stream",
          "name": "stdout",
          "text": [
            "Coefficients:  [[0.43111362 1.21052188 0.25877462]]\n"
          ]
        }
      ]
    },
    {
      "cell_type": "code",
      "source": [
        "# R2 and error calculated\n",
        "y_hat= regr.predict(test[['AGE','CIGSMK','BMI']])\n",
        "x = np.asanyarray(test[['AGE','CIGSMK','BMI']])\n",
        "y = np.asanyarray(test[['BP']])\n",
        "print(\"Residual sum of squares: %.2f\"\n",
        "      % np.mean((y_hat - y) ** 2))\n",
        "\n",
        "# Explained variance score: 1 is perfect prediction\n",
        "print('Variance score: %.2f' % regr.score(x, y))"
      ],
      "metadata": {
        "colab": {
          "base_uri": "https://localhost:8080/"
        },
        "id": "hEHFZJ0mskvM",
        "outputId": "4e050a50-29df-4593-c05e-deb47214b5cc"
      },
      "execution_count": 42,
      "outputs": [
        {
          "output_type": "stream",
          "name": "stdout",
          "text": [
            "Residual sum of squares: 230.95\n",
            "Variance score: 0.24\n"
          ]
        },
        {
          "output_type": "stream",
          "name": "stderr",
          "text": [
            "/usr/local/lib/python3.8/dist-packages/sklearn/base.py:443: UserWarning: X has feature names, but LinearRegression was fitted without feature names\n",
            "  warnings.warn(\n"
          ]
        }
      ]
    },
    {
      "cell_type": "code",
      "source": [
        "import numpy as np\n",
        "import pandas as pd\n",
        "import seaborn as sns\n",
        "import matplotlib.pyplot as plt\n",
        "from mpl_toolkits.mplot3d import Axes3D\n",
        "from sklearn.linear_model import LinearRegression\n",
        "\n",
        "\n",
        "# Split the data into training and testing sets\n",
        "train = df.sample(frac=0.8, random_state=0)\n",
        "test = df.drop(train.index)\n",
        "\n",
        "# Fit a multiple linear regression model\n",
        "regr = LinearRegression()\n",
        "x_train = np.asanyarray(train[['AGE', 'CIGSMK', 'BMI']])\n",
        "y_train = np.asanyarray(train[['BP']])\n",
        "regr.fit(x_train, y_train)\n",
        "\n",
        "\n",
        "\n",
        "# Make predictions using the testing set\n",
        "x_test = np.asanyarray(test[['AGE', 'CIGSMK', 'BMI']])\n",
        "y_test = np.asanyarray(test[['BP']])\n",
        "y_pred = regr.predict(x_test)\n",
        "\n",
        "# Plot the actual vs. predicted values\n",
        "plt.scatter(y_test, y_pred)\n",
        "plt.xlabel('Actual')\n",
        "plt.ylabel('Predicted')\n",
        "plt.title('Actual vs. Predicted BP')\n",
        "plt.show()\n",
        "\n",
        "# Create a 3D plot of the data and the regression plane\n",
        "fig = plt.figure()\n",
        "ax = fig.add_subplot(111, projection='3d')\n",
        "ax.scatter(train['AGE'], train['CIGSMK'], train['BP'], c='r', marker='o',edgecolor=\"darkred\")\n",
        "x_surf, y_surf = np.meshgrid(np.linspace(train['AGE'].min(), train['AGE'].max(), 100), \n",
        "                             np.linspace(train['CIGSMK'].min(), train['CIGSMK'].max(), 100))\n",
        "z_surf = regr.predict(np.column_stack((x_surf.ravel(), y_surf.ravel(), np.zeros_like(x_surf.ravel()))))\n",
        "ax.plot_surface(x_surf, y_surf, z_surf.reshape(x_surf.shape), alpha=0.5)\n",
        "ax.set_xlabel('Age')\n",
        "ax.set_ylabel('Smoking Status')\n",
        "ax.set_zlabel('Blood Pressure')\n",
        "ax.set_title('Multiple Linear Regression 3D Model')\n",
        "plt.show()\n"
      ],
      "metadata": {
        "colab": {
          "base_uri": "https://localhost:8080/",
          "height": 553
        },
        "id": "BEDBkU5zWIlH",
        "outputId": "5c754b26-5a63-4183-f717-1c13d55d54af"
      },
      "execution_count": 66,
      "outputs": [
        {
          "output_type": "display_data",
          "data": {
            "text/plain": [
              "<Figure size 432x288 with 1 Axes>"
            ],
            "image/png": "[encoded data removed]"
          },
          "metadata": {
            "needs_background": "light"
          }
        },
        {
          "output_type": "display_data",
          "data": {
            "text/plain": [
              "<Figure size 432x288 with 1 Axes>"
            ],
            "image/png": "[encoded data removed]"
          },
          "metadata": {
            "needs_background": "light"
          }
        }
      ]
    },
    {
      "cell_type": "markdown",
      "source": [
        "## Conclusions <a name=\"con\"></a>"
      ],
      "metadata": {
        "id": "agniQW-djpuH"
      }
    },
    {
      "cell_type": "markdown",
      "source": [
        "**EDA**"
      ],
      "metadata": {
        "id": "Vpu4Rq_NEfZd"
      }
    },
    {
      "cell_type": "markdown",
      "source": [
        "Performing Exploratory Data Analysis (EDA) on this dataset has given us a better idea of what our data looks like and which variables are important to take into account when predicting Blood Pressure (BP). "
      ],
      "metadata": {
        "id": "fPHb6_tvjzB3"
      }
    },
    {
      "cell_type": "markdown",
      "source": [
        "**Linear Regression**"
      ],
      "metadata": {
        "id": "1VI4_gkkEhiG"
      }
    },
    {
      "cell_type": "markdown",
      "source": [
        "This analysis includes both simple linear regression and multiple linear regression. The simple linear regression model examines the relationship between age and blood pressure and finds that age is a statistically significant predictor of blood pressure with a moderate correlation of 0.46 and a p-value <0.001. This means that for every one-year increase in age, systolic BP increases by 0.44 units on average. The R-squared value for the model is 0.23, indicating that 23% of the variation in systolic BP can be explained by age.\n",
        "\n",
        "The multiple linear regression model includes three predictors: age, smoking status, and BMI, and was used to explain the variation in blood pressure. For every one-year increase in age, blood pressure increases by 0.43 units on average; smokers have blood pressure that is 1.21 units higher on average than non-smokers; and for every one-unit increase in BMI, blood pressure increases by 0.26 units on average. Overall, these findings suggest that age, smoking status, and BMI are all significant predictors of blood pressure and that controlling for all three predictors can explain 24% of the variation in blood pressure."
      ],
      "metadata": {
        "id": "CREFejefwUQD"
      }
    }
  ]
}